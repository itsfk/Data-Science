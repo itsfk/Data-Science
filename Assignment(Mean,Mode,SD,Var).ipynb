{
 "cells": [
  {
   "cell_type": "code",
   "execution_count": 1,
   "metadata": {},
   "outputs": [
    {
     "name": "stdout",
     "output_type": "stream",
     "text": [
      "2.28571428571\n",
      "2.0\n",
      "ModeResult(mode=array([2]), count=array([2]))\n",
      "4\n",
      "1.91836734694\n",
      "1.38505138783\n"
     ]
    }
   ],
   "source": [
    "import numpy as np\n",
    "from scipy import stats\n",
    "\n",
    "\n",
    "Nihari_Plate_Eaten_Last_weak = [2,3,4,0,4,1,2]\n",
    "#Mean\n",
    "print(np.mean(Nihari_Plate_Eaten_Last_weak))\n",
    "#Median\n",
    "print(np.median(Nihari_Plate_Eaten_Last_weak))\n",
    "\n",
    "#Mode\n",
    "print(stats.mode(Nihari_Plate_Eaten_Last_weak))\n",
    "\n",
    "#range\n",
    "print(np.ptp(Nihari_Plate_Eaten_Last_weak))\n",
    "\n",
    "#variance\n",
    "print(np.var(Nihari_Plate_Eaten_Last_weak))\n",
    "#standard deviation\n",
    "print(np.std(Nihari_Plate_Eaten_Last_weak))"
   ]
  },
  {
   "cell_type": "code",
   "execution_count": null,
   "metadata": {
    "collapsed": true
   },
   "outputs": [],
   "source": []
  }
 ],
 "metadata": {
  "kernelspec": {
   "display_name": "Python 3",
   "language": "python",
   "name": "python3"
  },
  "language_info": {
   "codemirror_mode": {
    "name": "ipython",
    "version": 3
   },
   "file_extension": ".py",
   "mimetype": "text/x-python",
   "name": "python",
   "nbconvert_exporter": "python",
   "pygments_lexer": "ipython3",
   "version": "3.6.3"
  }
 },
 "nbformat": 4,
 "nbformat_minor": 2
}
